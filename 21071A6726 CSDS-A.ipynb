{
 "cells": [
  {
   "cell_type": "code",
   "execution_count": 1,
   "id": "58b3c17b",
   "metadata": {},
   "outputs": [],
   "source": [
    "#1.RUNNING INSTRUCTIONS\n",
    "#Shift + Enter ---> Run cell\n",
    "# Ctrl + S ---> save\n",
    "# Ctrl + M + B ---> New cell\n",
    "# Ctrl + M + D ---> Delete cell\n",
    "# Shift + / ---> Comment"
   ]
  },
  {
   "cell_type": "code",
   "execution_count": 2,
   "id": "cc88394d",
   "metadata": {},
   "outputs": [
    {
     "ename": "IndentationError",
     "evalue": "expected an indented block (3172396145.py, line 6)",
     "output_type": "error",
     "traceback": [
      "\u001b[1;36m  Input \u001b[1;32mIn [2]\u001b[1;36m\u001b[0m\n\u001b[1;33m    print(\"Odd number\")\u001b[0m\n\u001b[1;37m    ^\u001b[0m\n\u001b[1;31mIndentationError\u001b[0m\u001b[1;31m:\u001b[0m expected an indented block\n"
     ]
    }
   ],
   "source": [
    "#2.RAISE INDENTATION ERROR\n",
    "n=int(input(\"Enter a value:\"))\n",
    "if n%2==0:\n",
    "    print(\"Even number\")\n",
    "else:\n",
    "print(\"Odd number\")"
   ]
  },
  {
   "cell_type": "code",
   "execution_count": 3,
   "id": "1c768320",
   "metadata": {},
   "outputs": [
    {
     "name": "stdout",
     "output_type": "stream",
     "text": [
      "Enter a value:12\n",
      "Even number\n"
     ]
    }
   ],
   "source": [
    "#SOLVE INDENTATION ERROR\n",
    "n=int(input(\"Enter a value:\"))\n",
    "if n%2==0:\n",
    "    print(\"Even number\")\n",
    "else:\n",
    "    print(\"Odd number\")"
   ]
  },
  {
   "cell_type": "code",
   "execution_count": 4,
   "id": "0fa804b6",
   "metadata": {},
   "outputs": [
    {
     "name": "stdout",
     "output_type": "stream",
     "text": [
      "Enter first number:5\n",
      "Enter secomd number:15\n",
      "5\n"
     ]
    }
   ],
   "source": [
    "#3.COMPUTE GCD OF TWO NUMBERS\n",
    "def gcd(a,b):\n",
    "    if a==0:\n",
    "        return b\n",
    "    return gcd(b%a,a) \n",
    "a=int(input(\"Enter first number:\"))\n",
    "b=int(input(\"Enter secomd number:\"))\n",
    "res1=gcd(a,b)\n",
    "print(res1)"
   ]
  },
  {
   "cell_type": "code",
   "execution_count": 6,
   "id": "585454fe",
   "metadata": {},
   "outputs": [
    {
     "ename": "AttributeError",
     "evalue": "module 'sys' has no attribute 'arg'",
     "output_type": "error",
     "traceback": [
      "\u001b[1;31m---------------------------------------------------------------------------\u001b[0m",
      "\u001b[1;31mAttributeError\u001b[0m                            Traceback (most recent call last)",
      "Input \u001b[1;32mIn [6]\u001b[0m, in \u001b[0;36m<cell line: 3>\u001b[1;34m()\u001b[0m\n\u001b[0;32m      1\u001b[0m \u001b[38;5;66;03m# add.py \u001b[39;00m\n\u001b[0;32m      2\u001b[0m \u001b[38;5;28;01mimport\u001b[39;00m \u001b[38;5;21;01msys\u001b[39;00m\n\u001b[1;32m----> 3\u001b[0m x\u001b[38;5;241m=\u001b[39m\u001b[38;5;28mint\u001b[39m(\u001b[43msys\u001b[49m\u001b[38;5;241;43m.\u001b[39;49m\u001b[43marg\u001b[49m[v])\n\u001b[0;32m      4\u001b[0m y\u001b[38;5;241m=\u001b[39m\u001b[38;5;28mint\u001b[39m(sys\u001b[38;5;241m.\u001b[39marg[\u001b[38;5;241m2\u001b[39m])\n\u001b[0;32m      5\u001b[0m Sum\u001b[38;5;241m=\u001b[39mx\u001b[38;5;241m+\u001b[39my\n",
      "\u001b[1;31mAttributeError\u001b[0m: module 'sys' has no attribute 'arg'"
     ]
    }
   ],
   "source": [
    "#4. add.py \n",
    "import sys\n",
    "x=int(sys.arg[v])\n",
    "y=int(sys.arg[2])\n",
    "Sum=x+y"
   ]
  },
  {
   "cell_type": "code",
   "execution_count": 7,
   "id": "f7a882b9",
   "metadata": {},
   "outputs": [
    {
     "name": "stdout",
     "output_type": "stream",
     "text": [
      "5\n",
      "It is odd number\n"
     ]
    }
   ],
   "source": [
    "#5.check whether number is even or not\n",
    "n=int(input())\n",
    "if(n%2==0):\n",
    "    print(\"It is even number\")\n",
    "else:\n",
    "    print(\"It is odd number\")"
   ]
  },
  {
   "cell_type": "code",
   "execution_count": 8,
   "id": "4b4bc9e6",
   "metadata": {},
   "outputs": [
    {
     "name": "stdout",
     "output_type": "stream",
     "text": [
      "enter the number:103\n",
      "0 1 2 3 4 5 6 7 8 9 10 11 12 13 14 15 16 17 18 19 20 21 22 23 24 25 26 27 28 29 30 31 32 33 34 35 36 37 38 39 40 41 42 43 44 45 46 47 48 49 50 51 52 53 54 55 56 57 58 59 60 61 62 63 64 65 66 67 68 69 70 71 72 73 74 75 76 77 78 79 80 81 82 83 84 85 86 87 88 89 90 91 92 93 94 95 96 97 98 99 100 101 102 "
     ]
    }
   ],
   "source": [
    "#6.using for loop that loops over a sentence\n",
    "n=int(input(\"enter the number:\"))\n",
    "for i in range(n):\n",
    "    print(i,end=\" \")"
   ]
  },
  {
   "cell_type": "code",
   "execution_count": 9,
   "id": "f6e36239",
   "metadata": {},
   "outputs": [
    {
     "name": "stdout",
     "output_type": "stream",
     "text": [
      "enter the number of terms5\n",
      "0\n",
      "1\n",
      "1\n",
      "2\n",
      "3\n"
     ]
    }
   ],
   "source": [
    "#7.print fibonacci sequence using while loop:\n",
    "n=int(input(\"enter the number of terms\"))\n",
    "count=0\n",
    "n1=0\n",
    "n2=1\n",
    "while count<n:\n",
    "    print(n1)\n",
    "    temp= n1 + n2\n",
    "    n1=n2\n",
    "    n2 = temp\n",
    "    count+=1"
   ]
  },
  {
   "cell_type": "code",
   "execution_count": 20,
   "id": "62a55cd8",
   "metadata": {},
   "outputs": [
    {
     "name": "stdout",
     "output_type": "stream",
     "text": [
      "Enter the range:0 20\n",
      "2 3 5 7 11 13 17 19 "
     ]
    }
   ],
   "source": [
    "#8.print prime numbers in a given interval\n",
    "n,m=map(int,input(\"Enter the range:\").split())\n",
    "for i in range(n,m):\n",
    "    if i>1:\n",
    "        for j in range(2,i):\n",
    "            if(i%j)==0:\n",
    "                break\n",
    "        else:\n",
    "            print(i,end=\" \")"
   ]
  },
  {
   "cell_type": "code",
   "execution_count": 15,
   "id": "0cd2dbec",
   "metadata": {},
   "outputs": [
    {
     "name": "stdout",
     "output_type": "stream",
     "text": [
      "mean is 14.857142857142858\n",
      "median is 9\n",
      "mode is 4\n"
     ]
    }
   ],
   "source": [
    "#9.mean median mode for a set of numbers in a list\n",
    "l=[2,44,8,9,4,33,4]\n",
    "mean=sum(l)/len(l)\n",
    "median=l[len(l)//2]\n",
    "mode=max(set(l),key = l.count)\n",
    "print(\"mean is\",mean)\n",
    "print(\"median is\",median)\n",
    "print(\"mode is\",mode)"
   ]
  },
  {
   "cell_type": "code",
   "execution_count": 16,
   "id": "f94c7393",
   "metadata": {},
   "outputs": [
    {
     "name": "stdout",
     "output_type": "stream",
     "text": [
      "[ 2  3  5  7 89  5]\n",
      "[ 4 88  1  6 90  2]\n"
     ]
    }
   ],
   "source": [
    "#10.convert a list and tuple into arrays\n",
    "import numpy as np\n",
    "li=[2,3,5,7,89,5]\n",
    "tup=(4,88,1,6,90,2)\n",
    "arr=np.array(li)\n",
    "arr1=np.array(tup)\n",
    "print(arr)\n",
    "print(arr1)"
   ]
  },
  {
   "cell_type": "code",
   "execution_count": 18,
   "id": "918ab052",
   "metadata": {},
   "outputs": [
    {
     "name": "stdout",
     "output_type": "stream",
     "text": [
      "1 2 3 4 5 6 7 8 9 \n",
      "2 6 5 8 0 4\n",
      "{2, 4, 5, 6, 8}\n"
     ]
    }
   ],
   "source": [
    "#11.common values between two arrays\n",
    "list1=[int(x) for x in input().split()]\n",
    "list2=[int(x) for x in input().split()]\n",
    "common=[]\n",
    "for i in list1:\n",
    "    if i in list2:\n",
    "        common.append(i)\n",
    "print(set(common))"
   ]
  },
  {
   "cell_type": "code",
   "execution_count": 19,
   "id": "454162da",
   "metadata": {},
   "outputs": [
    {
     "name": "stdout",
     "output_type": "stream",
     "text": [
      "praneetha\n",
      "{'p': 1, 'r': 1, 'a': 2, 'n': 1, 'e': 2, 't': 1, 'h': 1}\n"
     ]
    }
   ],
   "source": [
    "#12.count thenumber of characters in the string and store in a dictionary\n",
    "dic={}\n",
    "st=input()\n",
    "st_li=list(st)\n",
    "for i in st_li:\n",
    "    if i not in dic:\n",
    "        dic[i]=1\n",
    "    else:\n",
    "        dic[i]=dic[i]+1\n",
    "print(dic)\n",
    "        "
   ]
  },
  {
   "cell_type": "code",
   "execution_count": 22,
   "id": "9e222a7a",
   "metadata": {},
   "outputs": [
    {
     "name": "stdout",
     "output_type": "stream",
     "text": [
      "Enter first list:a b c\n",
      "Enter second list:1 2 3\n",
      "{'a': '1', 'b': '2', 'c': '3'}\n"
     ]
    }
   ],
   "source": [
    "#13.combining lists into dictionary\n",
    "li1=[(x) for x in input(\"Enter first list:\").split()]\n",
    "li2=[(x) for x in input(\"Enter second list:\").split()]\n",
    "dic={}\n",
    "for i in li1:\n",
    "    for j in li2:\n",
    "        dic[i]=j\n",
    "        li2.remove(j)\n",
    "        break\n",
    "print(dic)"
   ]
  },
  {
   "cell_type": "code",
   "execution_count": 23,
   "id": "035ea352",
   "metadata": {},
   "outputs": [
    {
     "name": "stdout",
     "output_type": "stream",
     "text": [
      "Enter the string:Praneetha\n",
      "Enter the character:S\n",
      "No\n"
     ]
    }
   ],
   "source": [
    "#14.check whether a string starts with specified characters\n",
    "st=input(\"Enter the string:\")\n",
    "cha=input(\"Enter the character:\")\n",
    "if(st[0]==cha):\n",
    "    print(\"Yes String starts with specialised character\")\n",
    "else:\n",
    "    print(\"No\")"
   ]
  },
  {
   "cell_type": "code",
   "execution_count": 24,
   "id": "4eb53fd3",
   "metadata": {},
   "outputs": [
    {
     "name": "stdout",
     "output_type": "stream",
     "text": [
      "Enter the string:rotator\n",
      "It is a palindrome\n"
     ]
    }
   ],
   "source": [
    "#15.to check whether a string is palindrome or not\n",
    "st=input(\"Enter the string:\")\n",
    "st=st.lower()\n",
    "rev_st=st[::-1]\n",
    "if(st==rev_st):\n",
    "    print(\"It is a palindrome\")\n",
    "else:\n",
    "    print(\"Not a palindrome\")"
   ]
  },
  {
   "cell_type": "code",
   "execution_count": 26,
   "id": "e540a34f",
   "metadata": {},
   "outputs": [
    {
     "name": "stdout",
     "output_type": "stream",
     "text": [
      "Enter the string:Hi I am Praneetha\n",
      "Hi.I.am.Praneetha\n"
     ]
    }
   ],
   "source": [
    "#16.split and join a string\n",
    "string=input(\"Enter the string:\")\n",
    "st_li=string.split(\" \")\n",
    "res_string=\".\".join(st_li)\n",
    "print(res_string)"
   ]
  },
  {
   "cell_type": "code",
   "execution_count": 27,
   "id": "752c3344",
   "metadata": {},
   "outputs": [
    {
     "name": "stdout",
     "output_type": "stream",
     "text": [
      "Enter the string:hi a bcd\n",
      "['a', 'bcd', 'hi']\n"
     ]
    }
   ],
   "source": [
    "#17.sort words oin alphabetic order\n",
    "string=input(\"Enter the string:\")\n",
    "str_li=string.split(\" \")\n",
    "sor_str=sorted(str_li)\n",
    "print(sor_str)"
   ]
  },
  {
   "cell_type": "code",
   "execution_count": 28,
   "id": "d36b0b71",
   "metadata": {},
   "outputs": [
    {
     "name": "stdout",
     "output_type": "stream",
     "text": [
      "1.Addition\n",
      "2.Subtraction\n",
      "3.Multiply\n",
      "4.Division\n",
      "2\n",
      "Enter First value:8\n",
      "Enter Second value:5\n",
      "3\n"
     ]
    }
   ],
   "source": [
    "#21.calculator by making use of function\n",
    "def add(x,y): \n",
    "    print(x+y) \n",
    "def sub(x,y): \n",
    "    print(x-y) \n",
    "def mult(x,y): \n",
    "    print(x*y) \n",
    "def div(x,y): \n",
    "    print(x/y)  \n",
    "print(\"1.Addition\\n2.Subtraction\\n3.Multiply\\n4.Division\") \n",
    "n=int(input()) \n",
    "x=int(input(\"Enter First value:\")) \n",
    "y=int(input(\"Enter Second value:\")) \n",
    "if n==1: \n",
    "    add(x,y) \n",
    "elif n==2: \n",
    "    sub(x,y) \n",
    "elif n==3: \n",
    "    mult(x,y) \n",
    "elif n==4: \n",
    "    div(x,y) \n",
    "else: \n",
    "    print(\"No option\") "
   ]
  },
  {
   "cell_type": "code",
   "execution_count": 31,
   "id": "af9ad3b1",
   "metadata": {},
   "outputs": [
    {
     "name": "stdout",
     "output_type": "stream",
     "text": [
      "Enter the Number:6\n",
      "720\n"
     ]
    }
   ],
   "source": [
    "#22.factorial using recursion\n",
    "def factorial(n): \n",
    "    if(n==0): \n",
    "        return 1 \n",
    "    elif(n==1): \n",
    "        return 1 \n",
    "    else: \n",
    "        return n* factorial(n-1) \n",
    "n=int (input (\"Enter the Number:\")) \n",
    "result= factorial(n) \n",
    "print(result) "
   ]
  },
  {
   "cell_type": "code",
   "execution_count": 33,
   "id": "e72b80ee",
   "metadata": {},
   "outputs": [
    {
     "name": "stdout",
     "output_type": "stream",
     "text": [
      "1 5 5 3 1 1 8 9 5 \n",
      "[1, 5]\n"
     ]
    }
   ],
   "source": [
    "#23.function dups to find all duplicates in the list\n",
    "def duplicate(lis): \n",
    "    li_se=set(lis) \n",
    "    for i in li_se: \n",
    "        if(lis.count(i)>1): \n",
    "            res_li.append(i) \n",
    "    return res_li \n",
    "li=[int(x) for x in input().split()] \n",
    "res_li=[] \n",
    "result=duplicate(li) \n",
    "print(result)"
   ]
  },
  {
   "cell_type": "code",
   "execution_count": 36,
   "id": "c480f217",
   "metadata": {},
   "outputs": [
    {
     "name": "stdout",
     "output_type": "stream",
     "text": [
      "1 5 1 3 7 5 2 3 9 8 \n",
      "[2, 7, 8, 9]\n"
     ]
    }
   ],
   "source": [
    "#24.find all the unique elements of a\n",
    "def unique(lis): \n",
    "    li_se=set(lis) \n",
    "    for i in li_se: \n",
    "        if(lis.count(i)==1):\n",
    "            res_li.append(i)\n",
    "    return res_li \n",
    "li=[int(x) for x in input().split()] \n",
    "res_li=[] \n",
    "result=unique(li) \n",
    "print(result)"
   ]
  },
  {
   "cell_type": "code",
   "execution_count": 37,
   "id": "9f1e8fff",
   "metadata": {},
   "outputs": [
    {
     "name": "stdout",
     "output_type": "stream",
     "text": [
      "10 4 5 8\n",
      "1600\n"
     ]
    }
   ],
   "source": [
    "#25.cumulative_ product to compute cumulative product of a list of  numbers. \n",
    "def cummulative_product(lis): \n",
    "    mul=1 \n",
    "    for i in lis: \n",
    "         mul=i*mul \n",
    "    return mul \n",
    "li=[int(x) for x in input().split()] \n",
    "result =cummulative_product(li) \n",
    "print(result)"
   ]
  },
  {
   "cell_type": "code",
   "execution_count": 39,
   "id": "cf5e69b1",
   "metadata": {},
   "outputs": [
    {
     "name": "stdout",
     "output_type": "stream",
     "text": [
      "4 6 7 8 2 1 \n",
      "[1, 2, 8, 7, 6, 4]\n"
     ]
    }
   ],
   "source": [
    "#26.reverse to print the given list in the reverse\n",
    "def reverse(lis): \n",
    "    orgi_li=lis \n",
    "    for i in range(len(orgi_li)): \n",
    "         rev_lis.append(lis.pop()) \n",
    "    return rev_lis \n",
    "li=[int(x) for x in input().split()] \n",
    "rev_lis=[] \n",
    "result =reverse(li) \n",
    "print(result) "
   ]
  },
  {
   "cell_type": "code",
   "execution_count": 41,
   "id": "6cfa65a2",
   "metadata": {},
   "outputs": [
    {
     "name": "stdout",
     "output_type": "stream",
     "text": [
      "Enter first number:4\n",
      "Enter second number:3\n",
      "12 1\n"
     ]
    }
   ],
   "source": [
    "#27.compute GCD, LCM of two numbers\n",
    "def gcd(a,b): \n",
    "    if a == 0: \n",
    "         return b \n",
    "    return gcd(b % a, a) \n",
    "def lcm(res1): \n",
    "     return (a // res1)* b \n",
    "a=int(input(\"Enter first number:\")) \n",
    "b=int(input(\"Enter second number:\")) \n",
    "res1=gcd(a,b) \n",
    "res2=lcm(res1) \n",
    "print(res2,res1) "
   ]
  },
  {
   "cell_type": "code",
   "execution_count": null,
   "id": "4e6bb8a1",
   "metadata": {},
   "outputs": [],
   "source": []
  }
 ],
 "metadata": {
  "kernelspec": {
   "display_name": "Python 3 (ipykernel)",
   "language": "python",
   "name": "python3"
  },
  "language_info": {
   "codemirror_mode": {
    "name": "ipython",
    "version": 3
   },
   "file_extension": ".py",
   "mimetype": "text/x-python",
   "name": "python",
   "nbconvert_exporter": "python",
   "pygments_lexer": "ipython3",
   "version": "3.9.12"
  }
 },
 "nbformat": 4,
 "nbformat_minor": 5
}
